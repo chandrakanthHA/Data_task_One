{
 "cells": [
  {
   "cell_type": "markdown",
   "metadata": {},
   "source": [
    "# Data Task - OneDot AG\n",
    "The notebook exlpores integrating a supplier product data(supplier_car.json) \n",
    "into a pre-defined data structure(Targer Data.xlsx)\n",
    "\n",
    "The stakeholder is part of the Italian Mafia and wants to sell his/her luxury properties in the city, as the FBI is after them. After selling their houses they want to purchase new houses described as \"average houses in average neighbourhoods\" (i.e. to blend in) to accomodate their people without the FBI being suspicious.\n",
    "\n",
    "## Table to contents\n",
    "1. Setting up and Understanding Data\n",
    "2. Assigned tasks  \n",
    "a. Pre-processing  \n",
    "b. Normalisation  \n",
    "c. Integration\n",
    "3. Python script for excel file creation"
   ]
  },
  {
   "cell_type": "markdown",
   "metadata": {},
   "source": [
    "## 1. Setting up and understanding Data"
   ]
  },
  {
   "cell_type": "code",
   "execution_count": 1,
   "metadata": {},
   "outputs": [],
   "source": [
    "# Importing required libraries\n",
    "import json\n",
    "import xlsxwriter\n",
    "import pandas as pd\n",
    "\n",
    "# Display Options for pandas\n",
    "pd.set_option('display.max_columns', None)   # Displays all columns in the table"
   ]
  },
  {
   "cell_type": "code",
   "execution_count": 2,
   "metadata": {},
   "outputs": [],
   "source": [
    "# Reading the data from json file line by line\n",
    "data = [json.loads(line) for line in open('Data Task\\supplier_car.json', 'r')]"
   ]
  },
  {
   "cell_type": "code",
   "execution_count": 3,
   "metadata": {},
   "outputs": [],
   "source": [
    "# Creating a dataframe\n",
    "df = pd.DataFrame(data)"
   ]
  },
  {
   "cell_type": "code",
   "execution_count": 4,
   "metadata": {},
   "outputs": [
    {
     "data": {
      "text/plain": [
       "Index(['ID', 'MakeText', 'TypeName', 'TypeNameFull', 'ModelText',\n",
       "       'ModelTypeText', 'Attribute Names', 'Attribute Values', 'entity_id'],\n",
       "      dtype='object')"
      ]
     },
     "execution_count": 4,
     "metadata": {},
     "output_type": "execute_result"
    }
   ],
   "source": [
    "# Overview of the columns in the dataframe\n",
    "df.columns"
   ]
  },
  {
   "cell_type": "code",
   "execution_count": 5,
   "metadata": {},
   "outputs": [
    {
     "data": {
      "text/plain": [
       "(21906, 9)"
      ]
     },
     "execution_count": 5,
     "metadata": {},
     "output_type": "execute_result"
    }
   ],
   "source": [
    "# shape of the dataframe\n",
    "df.shape"
   ]
  },
  {
   "cell_type": "code",
   "execution_count": 6,
   "metadata": {},
   "outputs": [
    {
     "data": {
      "text/html": [
       "<div>\n",
       "<style scoped>\n",
       "    .dataframe tbody tr th:only-of-type {\n",
       "        vertical-align: middle;\n",
       "    }\n",
       "\n",
       "    .dataframe tbody tr th {\n",
       "        vertical-align: top;\n",
       "    }\n",
       "\n",
       "    .dataframe thead th {\n",
       "        text-align: right;\n",
       "    }\n",
       "</style>\n",
       "<table border=\"1\" class=\"dataframe\">\n",
       "  <thead>\n",
       "    <tr style=\"text-align: right;\">\n",
       "      <th></th>\n",
       "      <th>ID</th>\n",
       "      <th>MakeText</th>\n",
       "      <th>TypeName</th>\n",
       "      <th>TypeNameFull</th>\n",
       "      <th>ModelText</th>\n",
       "      <th>ModelTypeText</th>\n",
       "      <th>Attribute Names</th>\n",
       "      <th>Attribute Values</th>\n",
       "      <th>entity_id</th>\n",
       "    </tr>\n",
       "  </thead>\n",
       "  <tbody>\n",
       "    <tr>\n",
       "      <th>0</th>\n",
       "      <td>976.0</td>\n",
       "      <td>MERCEDES-BENZ</td>\n",
       "      <td>McLaren</td>\n",
       "      <td>MERCEDES-BENZ SLR McLaren</td>\n",
       "      <td>SLR</td>\n",
       "      <td>SLR McLaren</td>\n",
       "      <td>Seats</td>\n",
       "      <td>2</td>\n",
       "      <td>0001fda6-192b-46a8-bc08-0e833f904eed</td>\n",
       "    </tr>\n",
       "    <tr>\n",
       "      <th>1</th>\n",
       "      <td>1059.0</td>\n",
       "      <td>MERCEDES-BENZ</td>\n",
       "      <td>ML 350 Inspiration</td>\n",
       "      <td>MERCEDES-BENZ ML 350 Inspiration</td>\n",
       "      <td>ML 350</td>\n",
       "      <td>ML 350 Inspiration</td>\n",
       "      <td>Hp</td>\n",
       "      <td>235</td>\n",
       "      <td>00107c2d-0071-4475-88f0-810133638b7e</td>\n",
       "    </tr>\n",
       "    <tr>\n",
       "      <th>2</th>\n",
       "      <td>524.0</td>\n",
       "      <td>AUDI</td>\n",
       "      <td>S6 Avant quattro 4.2</td>\n",
       "      <td>AUDI S6 Avant quattro 4.2</td>\n",
       "      <td>S6</td>\n",
       "      <td>S6 Avant quattro 4.2</td>\n",
       "      <td>FuelTypeText</td>\n",
       "      <td>Benzin</td>\n",
       "      <td>00126794-a8ef-48fe-93d6-43cfc69fbfb6</td>\n",
       "    </tr>\n",
       "    <tr>\n",
       "      <th>3</th>\n",
       "      <td>608.0</td>\n",
       "      <td>SAAB</td>\n",
       "      <td>9-3 2.0i-16 TS Aero</td>\n",
       "      <td>SAAB 9-3 2.0i-16 TS Aero</td>\n",
       "      <td>9-3</td>\n",
       "      <td>9-3 2.0i-16 TS Aero</td>\n",
       "      <td>Ccm</td>\n",
       "      <td>1985</td>\n",
       "      <td>00182529-1bf7-4f93-89fa-2e8e634b2c9d</td>\n",
       "    </tr>\n",
       "    <tr>\n",
       "      <th>4</th>\n",
       "      <td>726.0</td>\n",
       "      <td>PORSCHE</td>\n",
       "      <td>911 Turbo Cabrio</td>\n",
       "      <td>PORSCHE 911 Turbo Cabrio</td>\n",
       "      <td>911</td>\n",
       "      <td>911 Turbo Cabrio</td>\n",
       "      <td>BodyColorText</td>\n",
       "      <td>schwarz mÃ©t.</td>\n",
       "      <td>002d30c2-43f6-4905-868f-160dbc445c56</td>\n",
       "    </tr>\n",
       "  </tbody>\n",
       "</table>\n",
       "</div>"
      ],
      "text/plain": [
       "       ID       MakeText              TypeName  \\\n",
       "0   976.0  MERCEDES-BENZ               McLaren   \n",
       "1  1059.0  MERCEDES-BENZ    ML 350 Inspiration   \n",
       "2   524.0           AUDI  S6 Avant quattro 4.2   \n",
       "3   608.0           SAAB   9-3 2.0i-16 TS Aero   \n",
       "4   726.0        PORSCHE      911 Turbo Cabrio   \n",
       "\n",
       "                       TypeNameFull ModelText         ModelTypeText  \\\n",
       "0         MERCEDES-BENZ SLR McLaren       SLR           SLR McLaren   \n",
       "1  MERCEDES-BENZ ML 350 Inspiration    ML 350    ML 350 Inspiration   \n",
       "2         AUDI S6 Avant quattro 4.2        S6  S6 Avant quattro 4.2   \n",
       "3          SAAB 9-3 2.0i-16 TS Aero       9-3   9-3 2.0i-16 TS Aero   \n",
       "4          PORSCHE 911 Turbo Cabrio       911      911 Turbo Cabrio   \n",
       "\n",
       "  Attribute Names Attribute Values                             entity_id  \n",
       "0           Seats                2  0001fda6-192b-46a8-bc08-0e833f904eed  \n",
       "1              Hp              235  00107c2d-0071-4475-88f0-810133638b7e  \n",
       "2    FuelTypeText           Benzin  00126794-a8ef-48fe-93d6-43cfc69fbfb6  \n",
       "3             Ccm             1985  00182529-1bf7-4f93-89fa-2e8e634b2c9d  \n",
       "4   BodyColorText    schwarz mÃ©t.  002d30c2-43f6-4905-868f-160dbc445c56  "
      ]
     },
     "execution_count": 6,
     "metadata": {},
     "output_type": "execute_result"
    }
   ],
   "source": [
    "# Overview of the created dataframe\n",
    "df.head()"
   ]
  },
  {
   "cell_type": "markdown",
   "metadata": {},
   "source": [
    "## 2. Assigned tasks"
   ]
  },
  {
   "cell_type": "markdown",
   "metadata": {},
   "source": [
    "### a. Pre - processing"
   ]
  },
  {
   "cell_type": "code",
   "execution_count": 7,
   "metadata": {},
   "outputs": [],
   "source": [
    "# Function for pre-processing\n",
    "def Pre_processing(df):\n",
    "    \n",
    "    '''\n",
    "    Inputs: \n",
    "        df: supplier data\n",
    "\n",
    "    Output: \n",
    "        Pre-processed dataframe \n",
    "    '''\n",
    "\n",
    "    # Drop the unwanted column\n",
    "    df.drop(['entity_id'], axis = 1, inplace=True)\n",
    "    \n",
    "    # Unpacking the attributes into columns \n",
    "    df_preprocessed = df.set_index(['ID', 'MakeText', 'TypeName', 'TypeNameFull', 'ModelText',\n",
    "                                    'ModelTypeText', 'Attribute Names']).unstack()['Attribute Values'].reset_index()\n",
    "    # Returning the result   \n",
    "    return df_preprocessed    "
   ]
  },
  {
   "cell_type": "code",
   "execution_count": 8,
   "metadata": {},
   "outputs": [],
   "source": [
    "# Saving pre-processed dataframe\n",
    "df_pre_processed = Pre_processing(df)"
   ]
  },
  {
   "cell_type": "code",
   "execution_count": 9,
   "metadata": {},
   "outputs": [],
   "source": [
    "# Writing and saving the integrated dataframe into excel\n",
    "df_pre_processed.to_excel(r'C:\\Users\\Saturn\\Onedot_task\\Final_results\\pre-processing.xlsx', index=False)"
   ]
  },
  {
   "cell_type": "markdown",
   "metadata": {},
   "source": [
    "### b. Nromalisation \n",
    "##### BodyColorText  \n",
    "Normalised from German to English  \n",
    "##### Maketext  \n",
    "Normalised the strings to Title case  \n",
    "##### BodyTypeText  \n",
    "Normalised CoupÃ© to Coupé"
   ]
  },
  {
   "cell_type": "code",
   "execution_count": 10,
   "metadata": {},
   "outputs": [],
   "source": [
    "# Function for normalisation\n",
    "def Normalisation(df):\n",
    "    \n",
    "    '''\n",
    "    Inputs: \n",
    "        df: Pre-processed dataframe\n",
    "\n",
    "    Output: \n",
    "        Normalised dataframe \n",
    "    '''\n",
    "    \n",
    "    # Copy the preprocessed Dataframe as Input for normalisation\n",
    "    df_normalised = df.copy()\n",
    "    \n",
    "    # Normalising some attribute columns \n",
    "    # Normalising column 'BodyColorText' \n",
    "    df_normalised[\"BodyColorText\"].replace({\"anthrazit\": \"Other\", \"anthrazit mÃ©t.\": \"Other\",\n",
    "                                         \"beige mÃ©t.\": \"Other\", \"beige\": \"Biege\",\n",
    "                                         \"blau mÃ©t.\": \"Other\", \"blau\": \"Blue\", \n",
    "                                         \"bordeaux mÃ©t.\": \"Other\",\"bordeaux\": \"Other\", \n",
    "                                         \"braun mÃ©t.\": \"Other\", \"braun\": \"Brown\",\n",
    "                                         \"gelb mÃ©t.\": \"Other\", \"gelb\": \"Yellow\",\n",
    "                                         \"gold mÃ©t.\": \"Other\", \"gold\": \"Gold\",\n",
    "                                         \"grÃ¼n mÃ©t.\": \"Other\", \"grÃ¼n\": \"Green\",\n",
    "                                         \"grau mÃ©t.\": \"Other\", \"grau\": \"Grey\",\n",
    "                                         \"orange mÃ©t.\": \"Other\", \"orange\": \"Orange\",\n",
    "                                         \"rot mÃ©t.\": \"Other\", \"rot\": \"Red\",\n",
    "                                         \"schwarz mÃ©t.\": \"Other\", \"schwarz\": \"Black\",\n",
    "                                         \"silber mÃ©t.\": \"Other\", \"silber\": \"Silver\",\n",
    "                                         \"violett mÃ©t.\": \"Other\",\n",
    "                                         \"weiss mÃ©t.\": \"Other\", \"weiss\": \"White\"}, inplace=True)\n",
    "\n",
    "\n",
    "    # Normalising column 'BodyTypeText'\n",
    "    df_normalised[\"BodyTypeText\"].replace({\"CoupÃ©\": \"Coupé\", \"SUV / GelÃ¤ndewagen\": \"SUV / Gelandewagen\"}, \n",
    "                                          inplace=True)\n",
    "\n",
    "\n",
    "    # Normalising column 'MakeText'\n",
    "    df_normalised[\"MakeText\"] = df_normalised[\"MakeText\"].str.title() \n",
    "    df_normalised[\"MakeText\"].replace({\"Bmw\": \"BMW\", \"Mg\": \"MG\",\"Ruf\": \"RUF\",\n",
    "                                  \"Bmw-Alpina\": \"BMW-Alpina\"}, inplace=True)\n",
    "    \n",
    "    # Returning the result\n",
    "    return df_normalised  "
   ]
  },
  {
   "cell_type": "code",
   "execution_count": 11,
   "metadata": {},
   "outputs": [],
   "source": [
    "# Saving the normalised dataframe\n",
    "df_normalised = Normalisation(df_pre_processed)"
   ]
  },
  {
   "cell_type": "code",
   "execution_count": 12,
   "metadata": {},
   "outputs": [],
   "source": [
    "# Writing and saving the integrated dataframe into excel\n",
    "df_normalised.to_excel(r'C:\\Users\\Saturn\\Onedot_task\\Final_results\\normalisation.xlsx', index=False)"
   ]
  },
  {
   "cell_type": "markdown",
   "metadata": {},
   "source": [
    "#### Some attributes that still require normalisation \n",
    "\n",
    "##### ConditionTypeText  \n",
    "Change German to English  \n",
    "Example : VorfÃ¼hrmodell to Used,  Neu to New\n",
    "\n",
    "##### DriveTypeText\n",
    "Change German to English  \n",
    "Example : Hinterradantrieb to Rear-wheel drive\n",
    "\n",
    "##### InteriorColorText\n",
    "Change German to english  \n",
    "Example : schwarz to Black\n",
    "\n",
    "##### km\n",
    "Change the km column from data type object to float  \n",
    "Example :48000 to 48000.0\n",
    "\n",
    "##### ModelTypeText\n",
    "Correct the spelling\n",
    "Example : E 320 ElÃ©gance 4-Matic to E 320 Elegance 4-Matic"
   ]
  },
  {
   "cell_type": "markdown",
   "metadata": {},
   "source": [
    "### c. Integration"
   ]
  },
  {
   "cell_type": "code",
   "execution_count": 13,
   "metadata": {},
   "outputs": [],
   "source": [
    "# Function for integrating the supplier data with target dataset\n",
    "def Integration(df):\n",
    "    \n",
    "    '''\n",
    "    Inputs: \n",
    "        df: Normalised dataframe \n",
    "\n",
    "    Output: \n",
    "        Integrated dataframe \n",
    "    '''\n",
    "    \n",
    "    # Reading the Target data file to copy the schema\n",
    "    df_target = pd.read_excel('Data Task\\Target Data.xlsx')\n",
    "    \n",
    "    # Copying the schema from Target data set without any records\n",
    "    df_integrated = pd.DataFrame().reindex_like(df_target)\n",
    "    \n",
    "    # Populating the new dataframe with values from normalised dataframe\n",
    "    df_integrated.carType = df_integrated.carType.fillna(value=df.BodyTypeText)\n",
    "    df_integrated.color= df_integrated.color.fillna(value=df.BodyColorText)\n",
    "    df_integrated.condition= df_integrated.condition.fillna(value=df.ConditionTypeText)\n",
    "    df_integrated.city= df_integrated.city.fillna(value=df.City)\n",
    "    df_integrated.make= df_integrated.make.fillna(value=df.MakeText)\n",
    "    df_integrated.manufacture_year= df_integrated.manufacture_year.fillna(value=df.FirstRegYear)\n",
    "    df_integrated.manufacture_month= df_integrated.manufacture_month.fillna(value=df.FirstRegMonth)\n",
    "    df_integrated.mileage= df_integrated.mileage.fillna(value=df.Km)\n",
    "    df_integrated.model= df_integrated.model.fillna(value=df.ModelText)\n",
    "    df_integrated.model_variant= df_integrated.model_variant.fillna(value=df.ModelTypeText)\n",
    "  \n",
    "    # Dropping rows with no values\n",
    "    df_integrated.dropna(how = 'all', inplace=True)\n",
    "    \n",
    "    # Filling the rest of the missing values with 'null'\n",
    "    df_integrated.mileage_unit = df_integrated.mileage_unit.fillna(value='Kilometer')\n",
    "    df_integrated = df_integrated.fillna(value='null')\n",
    "    \n",
    "    # Returning the result\n",
    "    return df_integrated    "
   ]
  },
  {
   "cell_type": "code",
   "execution_count": 14,
   "metadata": {},
   "outputs": [],
   "source": [
    "# Saving the Integrated dataframe\n",
    "df_integrated = Integration(df_normalised)"
   ]
  },
  {
   "cell_type": "code",
   "execution_count": 15,
   "metadata": {},
   "outputs": [
    {
     "data": {
      "text/plain": [
       "(1153, 18)"
      ]
     },
     "execution_count": 15,
     "metadata": {},
     "output_type": "execute_result"
    }
   ],
   "source": [
    "# Checking the final dimesion of the dataset\n",
    "df_integrated.shape"
   ]
  },
  {
   "cell_type": "code",
   "execution_count": 16,
   "metadata": {},
   "outputs": [
    {
     "data": {
      "text/html": [
       "<div>\n",
       "<style scoped>\n",
       "    .dataframe tbody tr th:only-of-type {\n",
       "        vertical-align: middle;\n",
       "    }\n",
       "\n",
       "    .dataframe tbody tr th {\n",
       "        vertical-align: top;\n",
       "    }\n",
       "\n",
       "    .dataframe thead th {\n",
       "        text-align: right;\n",
       "    }\n",
       "</style>\n",
       "<table border=\"1\" class=\"dataframe\">\n",
       "  <thead>\n",
       "    <tr style=\"text-align: right;\">\n",
       "      <th></th>\n",
       "      <th>carType</th>\n",
       "      <th>color</th>\n",
       "      <th>condition</th>\n",
       "      <th>currency</th>\n",
       "      <th>drive</th>\n",
       "      <th>city</th>\n",
       "      <th>country</th>\n",
       "      <th>make</th>\n",
       "      <th>manufacture_year</th>\n",
       "      <th>mileage</th>\n",
       "      <th>mileage_unit</th>\n",
       "      <th>model</th>\n",
       "      <th>model_variant</th>\n",
       "      <th>price_on_request</th>\n",
       "      <th>type</th>\n",
       "      <th>zip</th>\n",
       "      <th>manufacture_month</th>\n",
       "      <th>fuel_consumption_unit</th>\n",
       "    </tr>\n",
       "  </thead>\n",
       "  <tbody>\n",
       "    <tr>\n",
       "      <th>0</th>\n",
       "      <td>Limousine</td>\n",
       "      <td>Other</td>\n",
       "      <td>Occasion</td>\n",
       "      <td>null</td>\n",
       "      <td>null</td>\n",
       "      <td>Zuzwil</td>\n",
       "      <td>null</td>\n",
       "      <td>Mercedes-Benz</td>\n",
       "      <td>1999</td>\n",
       "      <td>31900</td>\n",
       "      <td>Kilometer</td>\n",
       "      <td>E 320</td>\n",
       "      <td>E 320 ElÃ©gance 4-Matic</td>\n",
       "      <td>null</td>\n",
       "      <td>null</td>\n",
       "      <td>null</td>\n",
       "      <td>1</td>\n",
       "      <td>null</td>\n",
       "    </tr>\n",
       "    <tr>\n",
       "      <th>1</th>\n",
       "      <td>Coupé</td>\n",
       "      <td>Other</td>\n",
       "      <td>Oldtimer</td>\n",
       "      <td>null</td>\n",
       "      <td>null</td>\n",
       "      <td>Zuzwil</td>\n",
       "      <td>null</td>\n",
       "      <td>Lamborghini</td>\n",
       "      <td>1973</td>\n",
       "      <td>48000</td>\n",
       "      <td>Kilometer</td>\n",
       "      <td>null</td>\n",
       "      <td>Espada GT 400 Serie 3</td>\n",
       "      <td>null</td>\n",
       "      <td>null</td>\n",
       "      <td>null</td>\n",
       "      <td>4</td>\n",
       "      <td>null</td>\n",
       "    </tr>\n",
       "    <tr>\n",
       "      <th>2</th>\n",
       "      <td>Coupé</td>\n",
       "      <td>Other</td>\n",
       "      <td>Occasion</td>\n",
       "      <td>null</td>\n",
       "      <td>null</td>\n",
       "      <td>Zuzwil</td>\n",
       "      <td>null</td>\n",
       "      <td>Ferrari</td>\n",
       "      <td>2004</td>\n",
       "      <td>42600</td>\n",
       "      <td>Kilometer</td>\n",
       "      <td>F360</td>\n",
       "      <td>F360 Modena Berlinetta</td>\n",
       "      <td>null</td>\n",
       "      <td>null</td>\n",
       "      <td>null</td>\n",
       "      <td>2</td>\n",
       "      <td>null</td>\n",
       "    </tr>\n",
       "    <tr>\n",
       "      <th>3</th>\n",
       "      <td>Cabriolet</td>\n",
       "      <td>Other</td>\n",
       "      <td>Occasion</td>\n",
       "      <td>null</td>\n",
       "      <td>null</td>\n",
       "      <td>Porrentruy</td>\n",
       "      <td>null</td>\n",
       "      <td>Alfa Romeo</td>\n",
       "      <td>2011</td>\n",
       "      <td>23900</td>\n",
       "      <td>Kilometer</td>\n",
       "      <td>8C</td>\n",
       "      <td>8C</td>\n",
       "      <td>null</td>\n",
       "      <td>null</td>\n",
       "      <td>null</td>\n",
       "      <td>4</td>\n",
       "      <td>null</td>\n",
       "    </tr>\n",
       "    <tr>\n",
       "      <th>4</th>\n",
       "      <td>Limousine</td>\n",
       "      <td>Other</td>\n",
       "      <td>Occasion</td>\n",
       "      <td>null</td>\n",
       "      <td>null</td>\n",
       "      <td>Zuzwil</td>\n",
       "      <td>null</td>\n",
       "      <td>BMW</td>\n",
       "      <td>1974</td>\n",
       "      <td>97100</td>\n",
       "      <td>Kilometer</td>\n",
       "      <td>2002</td>\n",
       "      <td>2002 Turbo</td>\n",
       "      <td>null</td>\n",
       "      <td>null</td>\n",
       "      <td>null</td>\n",
       "      <td>3</td>\n",
       "      <td>null</td>\n",
       "    </tr>\n",
       "  </tbody>\n",
       "</table>\n",
       "</div>"
      ],
      "text/plain": [
       "     carType  color condition currency drive        city country  \\\n",
       "0  Limousine  Other  Occasion     null  null      Zuzwil    null   \n",
       "1      Coupé  Other  Oldtimer     null  null      Zuzwil    null   \n",
       "2      Coupé  Other  Occasion     null  null      Zuzwil    null   \n",
       "3  Cabriolet  Other  Occasion     null  null  Porrentruy    null   \n",
       "4  Limousine  Other  Occasion     null  null      Zuzwil    null   \n",
       "\n",
       "            make manufacture_year mileage mileage_unit  model  \\\n",
       "0  Mercedes-Benz             1999   31900    Kilometer  E 320   \n",
       "1    Lamborghini             1973   48000    Kilometer   null   \n",
       "2        Ferrari             2004   42600    Kilometer   F360   \n",
       "3     Alfa Romeo             2011   23900    Kilometer     8C   \n",
       "4            BMW             1974   97100    Kilometer   2002   \n",
       "\n",
       "             model_variant price_on_request  type   zip manufacture_month  \\\n",
       "0  E 320 ElÃ©gance 4-Matic             null  null  null                 1   \n",
       "1    Espada GT 400 Serie 3             null  null  null                 4   \n",
       "2   F360 Modena Berlinetta             null  null  null                 2   \n",
       "3                       8C             null  null  null                 4   \n",
       "4               2002 Turbo             null  null  null                 3   \n",
       "\n",
       "  fuel_consumption_unit  \n",
       "0                  null  \n",
       "1                  null  \n",
       "2                  null  \n",
       "3                  null  \n",
       "4                  null  "
      ]
     },
     "execution_count": 16,
     "metadata": {},
     "output_type": "execute_result"
    }
   ],
   "source": [
    "# Overview of the integrated dataframe\n",
    "df_integrated.head()"
   ]
  },
  {
   "cell_type": "code",
   "execution_count": 17,
   "metadata": {},
   "outputs": [],
   "source": [
    "# Writing and saving the integrated dataframe into excel\n",
    "df_integrated.to_excel(r'C:\\Users\\Saturn\\Onedot_task\\Final_results\\integration.xlsx', index=False)"
   ]
  },
  {
   "cell_type": "markdown",
   "metadata": {},
   "source": [
    "## 3. Conclusion"
   ]
  },
  {
   "cell_type": "markdown",
   "metadata": {},
   "source": [
    "Assumptions :  \n",
    "    a. km in supplier data column is assumed to be mileage in target dataset  \n",
    "    b. mileage_unit column in target data filled with unit kilometer target dataset  \n",
    "    c. FirstRegYear column is assumed as manufacture_year in target dataset  \n",
    "    d. FirstRegMonth column is assumed as manufacture_month in target dataset  \n",
    "    \n",
    "Missing information as observed :  \n",
    "a. country or zip code  \n",
    "b. price on request if available or not  \n",
    "c. Fuel consumtion column on target dataset (fuel consumption unit is present)"
   ]
  },
  {
   "cell_type": "code",
   "execution_count": null,
   "metadata": {},
   "outputs": [],
   "source": []
  }
 ],
 "metadata": {
  "kernelspec": {
   "display_name": "Python 3",
   "language": "python",
   "name": "python3"
  },
  "language_info": {
   "codemirror_mode": {
    "name": "ipython",
    "version": 3
   },
   "file_extension": ".py",
   "mimetype": "text/x-python",
   "name": "python",
   "nbconvert_exporter": "python",
   "pygments_lexer": "ipython3",
   "version": "3.8.5"
  }
 },
 "nbformat": 4,
 "nbformat_minor": 4
}
